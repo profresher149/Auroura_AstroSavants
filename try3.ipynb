{
 "cells": [
  {
   "cell_type": "code",
   "execution_count": 49,
   "metadata": {},
   "outputs": [],
   "source": [
    "import pandas as pd\n",
    "import csv\n",
    "import numpy as np\n",
    "import statistics as sc\n",
    "import matplotlib.pyplot as plt\n",
    "from numpy import percentile\n",
    "import re"
   ]
  },
  {
   "cell_type": "code",
   "execution_count": 2,
   "metadata": {},
   "outputs": [],
   "source": [
    "df0=pd.read_csv('positions_sat.csv')\n",
    "df1=pd.read_csv('labels(dst).csv')\n",
    "df2=pd.read_csv('solar_wind.csv')\n",
    "df3=pd.read_csv('sunspots_smooth.csv')"
   ]
  },
  {
   "cell_type": "code",
   "execution_count": 34,
   "metadata": {},
   "outputs": [],
   "source": [
    "nndf=df2.drop(['period','timedelta','source'], axis=1)\n"
   ]
  },
  {
   "cell_type": "code",
   "execution_count": 21,
   "metadata": {},
   "outputs": [
    {
     "name": "stdout",
     "output_type": "stream",
     "text": [
      "1729439\n",
      "4884479\n",
      "8392319\n"
     ]
    }
   ],
   "source": [
    "train__a=0\n",
    "train__b=0\n",
    "train__c=0\n",
    "for i in range (len(df2)):\n",
    "    if(df2['period'][i]==\"train_a\"):\n",
    "        train__a=i\n",
    "    elif(df2['period'][i]==\"train_b\"):\n",
    "        train__b=i\n",
    "    elif(df2['period'][i]==\"train_c\"):\n",
    "        train__c=i\n",
    "print(train__a)\n",
    "print(train__b)\n",
    "print(train__c)"
   ]
  },
  {
   "cell_type": "code",
   "execution_count": 26,
   "metadata": {},
   "outputs": [
    {
     "name": "stdout",
     "output_type": "stream",
     "text": [
      "train_a\n",
      "8392319\n"
     ]
    }
   ],
   "source": [
    "print(df2['period'][0])\n",
    "print(len(df2)-1)"
   ]
  },
  {
   "cell_type": "code",
   "execution_count": 10,
   "metadata": {},
   "outputs": [
    {
     "name": "stdout",
     "output_type": "stream",
     "text": [
      "<class 'pandas.core.frame.DataFrame'>\n",
      "RangeIndex: 192 entries, 0 to 191\n",
      "Data columns (total 3 columns):\n",
      " #   Column        Non-Null Count  Dtype  \n",
      "---  ------        --------------  -----  \n",
      " 0   period        192 non-null    object \n",
      " 1   timedelta     192 non-null    object \n",
      " 2   smoothed_ssn  192 non-null    float64\n",
      "dtypes: float64(1), object(2)\n",
      "memory usage: 4.6+ KB\n"
     ]
    }
   ],
   "source": [
    "df3.info()"
   ]
  },
  {
   "cell_type": "code",
   "execution_count": 19,
   "metadata": {},
   "outputs": [
    {
     "name": "stdout",
     "output_type": "stream",
     "text": [
      "['13', 'days', '00:00:00']\n",
      "192\n",
      "3\n"
     ]
    }
   ],
   "source": [
    "x=df3['timedelta'][1].split()\n",
    "print(x)\n",
    "print(len(df3))\n",
    "sum=0\n",
    "for i in range (len(df3)):\n",
    "    if(int(df3['timedelta'][i].split()[0])==0):\n",
    "        sum+=1\n",
    "print(sum)"
   ]
  },
  {
   "cell_type": "code",
   "execution_count": 35,
   "metadata": {},
   "outputs": [
    {
     "name": "stdout",
     "output_type": "stream",
     "text": [
      "7571081\n"
     ]
    }
   ],
   "source": [
    "nndf_new=nndf.dropna()\n",
    "nndf\n",
    "print(len(nndf_new))"
   ]
  },
  {
   "cell_type": "code",
   "execution_count": 39,
   "metadata": {},
   "outputs": [],
   "source": [
    "indexing_list=[]\n",
    "for i in nndf:\n",
    "    indexing_list.append(i)"
   ]
  },
  {
   "cell_type": "code",
   "execution_count": 37,
   "metadata": {},
   "outputs": [
    {
     "name": "stdout",
     "output_type": "stream",
     "text": [
      "[[-54.63, -3.27, -0.67, 2.04, 55.55], [-51.69, -2.46, 0.11, 2.65, 57.6], [-54.84, -1.7, 0.01, 1.7, 57.3], [-89.89, -21.43, 0.16, 21.69, 89.94], [0.0, 123.83, 176.65, 286.62, 360.0], [-54.63, -3.27, -0.67, 2.03, 55.54], [-52.68, -2.39, 0.08, 2.55, 52.91], [-55.69, -1.8, 0.0, 1.79, 52.86], [-89.91, -22.81, 0.05, 23.08, 89.96], [0.0, 124.49, 177.48, 286.83, 360.0], [0.03, 3.66, 4.95, 6.7, 73.69], [0.0, 1.83, 3.39, 5.75, 195.26], [0.0, 358.8, 411.31, 487.4, 1198.49], [0.0, 39791.0, 77374.0, 151222.0, 6223700.0]]\n"
     ]
    }
   ],
   "source": [
    "five_number_summary=[]\n",
    "# Saved as  : -----\n",
    "# min\n",
    "# 1st quartile\n",
    "# median\n",
    "# 2nd quartile\n",
    "# max\n",
    "for i in nndf_new:\n",
    "    newfive=[]\n",
    "    newfive.append(nndf_new[i].min())\n",
    "    quartiles = percentile(nndf_new[i], [25, 50, 75])\n",
    "    newfive.append(quartiles[0])\n",
    "    newfive.append(quartiles[1])\n",
    "    newfive.append(quartiles[2])\n",
    "    newfive.append(nndf_new[i].max())\n",
    "    five_number_summary.append(newfive)\n",
    "print(five_number_summary)    "
   ]
  },
  {
   "cell_type": "code",
   "execution_count": 48,
   "metadata": {},
   "outputs": [
    {
     "data": {
      "image/png": "[encoded data removed]",
      "text/plain": [
       "<Figure size 1000x600 with 1 Axes>"
      ]
     },
     "metadata": {},
     "output_type": "display_data"
    }
   ],
   "source": [
    "# data=[]\n",
    "# for i in range(len(indexing_list)):\n",
    "#     data.append(nndf_new[indexing_list[i]])\n",
    "# ax = fig.add_axes([0, 0, 1, 1])\n",
    "# bp = ax.boxplot(data)\n",
    "# plt.show()\n",
    "fig = plt.figure(figsize =(10, 6))\n",
    "plt.boxplot(nndf_new[indexing_list[0]]) # Substitute 0 with i for Box plot analysis of the data\n",
    "plt.show()"
   ]
  },
  {
   "cell_type": "code",
   "execution_count": 50,
   "metadata": {},
   "outputs": [],
   "source": [
    "def expand(DF):\n",
    "    sn=[]\n",
    "    for i in range(DF.index[0],DF.index[-1]):\n",
    "        match = re.search(r'\\d+', DF['timedelta'][i])\n",
    "        n = int(match.group())\n",
    "        match_next = re.search(r'\\d+', DF['timedelta'][i + 1])\n",
    "        n1 = int(match_next.group())\n",
    "        x = DF['smoothed_ssn'][i]\n",
    "        for j in range((n1 - n )*1440):\n",
    "            sn.append(x)\n",
    "\n",
    "    for i in range(31*1440):\n",
    "        sn.append(DF['smoothed_ssn'].iloc[-1])\n",
    "    ssn = pd.DataFrame({'smoothed_ssn': sn})\n",
    "    return ssn"
   ]
  },
  {
   "cell_type": "code",
   "execution_count": 66,
   "metadata": {},
   "outputs": [
    {
     "name": "stdout",
     "output_type": "stream",
     "text": [
      "8303040\n",
      "         smoothed_ssn\n",
      "0                65.4\n",
      "1                65.4\n",
      "2                65.4\n",
      "3                65.4\n",
      "4                65.4\n",
      "...               ...\n",
      "8303035          42.5\n",
      "8303036          42.5\n",
      "8303037          42.5\n",
      "8303038          42.5\n",
      "8303039          42.5\n",
      "\n",
      "[8303040 rows x 1 columns]\n",
      "8303040\n"
     ]
    }
   ],
   "source": [
    "ssncol_semi=expand(df3)\n",
    "print(len(ssncol_semi))\n",
    "print(ssncol_semi)\n",
    "snc=list(ssncol_semi['smoothed_ssn'])\n",
    "print(len(snc))"
   ]
  },
  {
   "cell_type": "code",
   "execution_count": 67,
   "metadata": {},
   "outputs": [
    {
     "name": "stdout",
     "output_type": "stream",
     "text": [
      "8392320\n"
     ]
    }
   ],
   "source": [
    "for i in range (0,(len(df2['bx_gse'])-len(ssncol_semi))):\n",
    "    snc.append(ssncol_semi['smoothed_ssn'][len(ssncol_semi)-1])\n",
    "print(len(snc))"
   ]
  },
  {
   "cell_type": "code",
   "execution_count": 68,
   "metadata": {},
   "outputs": [],
   "source": [
    "dfn=nndf.assign(sunspots_smooth=snc)\n"
   ]
  },
  {
   "cell_type": "markdown",
   "metadata": {},
   "source": [
    "Now replacing Nan values with mean and median and analysing the box plot "
   ]
  },
  {
   "cell_type": "code",
   "execution_count": 89,
   "metadata": {},
   "outputs": [
    {
     "name": "stdout",
     "output_type": "stream",
     "text": [
      "15\n",
      "8392320\n"
     ]
    }
   ],
   "source": [
    "colnames=[]\n",
    "for i in dfn:\n",
    "    colnames.append(i)\n",
    "data=[]\n",
    "for i in range(len(colnames)):\n",
    "    data.append(dfn[colnames[i]])\n",
    "print(len(data))\n",
    "print(len(data[0]))"
   ]
  },
  {
   "cell_type": "code",
   "execution_count": 91,
   "metadata": {},
   "outputs": [
    {
     "ename": "KeyboardInterrupt",
     "evalue": "",
     "output_type": "error",
     "traceback": [
      "\u001b[1;31m---------------------------------------------------------------------------\u001b[0m",
      "\u001b[1;31mKeyboardInterrupt\u001b[0m                         Traceback (most recent call last)",
      "\u001b[1;32m~\\AppData\\Local\\Temp\\ipykernel_36480\\2362157171.py\u001b[0m in \u001b[0;36m?\u001b[1;34m()\u001b[0m\n\u001b[0;32m     39\u001b[0m     \u001b[1;32mif\u001b[0m\u001b[1;33m(\u001b[0m\u001b[0mpd\u001b[0m\u001b[1;33m.\u001b[0m\u001b[0misna\u001b[0m\u001b[1;33m(\u001b[0m\u001b[0mdfn\u001b[0m\u001b[1;33m[\u001b[0m\u001b[0mcolnames\u001b[0m\u001b[1;33m[\u001b[0m\u001b[0mk\u001b[0m\u001b[1;33m]\u001b[0m\u001b[1;33m]\u001b[0m\u001b[1;33m[\u001b[0m\u001b[0mi\u001b[0m\u001b[1;33m]\u001b[0m\u001b[1;33m)\u001b[0m\u001b[1;33m)\u001b[0m\u001b[1;33m:\u001b[0m\u001b[1;33m\u001b[0m\u001b[1;33m\u001b[0m\u001b[0m\n\u001b[0;32m     40\u001b[0m         \u001b[0mdfn\u001b[0m\u001b[1;33m[\u001b[0m\u001b[0mcolnames\u001b[0m\u001b[1;33m[\u001b[0m\u001b[0mk\u001b[0m\u001b[1;33m]\u001b[0m\u001b[1;33m]\u001b[0m\u001b[1;33m[\u001b[0m\u001b[0mi\u001b[0m\u001b[1;33m]\u001b[0m\u001b[1;33m=\u001b[0m\u001b[0msc\u001b[0m\u001b[1;33m.\u001b[0m\u001b[0mmedian\u001b[0m\u001b[1;33m(\u001b[0m\u001b[0mdfn\u001b[0m\u001b[1;33m[\u001b[0m\u001b[0mcolnames\u001b[0m\u001b[1;33m[\u001b[0m\u001b[0mk\u001b[0m\u001b[1;33m]\u001b[0m\u001b[1;33m]\u001b[0m\u001b[1;33m)\u001b[0m\u001b[1;33m\u001b[0m\u001b[1;33m\u001b[0m\u001b[0m\n\u001b[0;32m     41\u001b[0m     \u001b[0mk\u001b[0m\u001b[1;33m+=\u001b[0m\u001b[1;36m1\u001b[0m\u001b[1;33m\u001b[0m\u001b[1;33m\u001b[0m\u001b[0m\n\u001b[0;32m     42\u001b[0m     \u001b[1;32mif\u001b[0m\u001b[1;33m(\u001b[0m\u001b[0mpd\u001b[0m\u001b[1;33m.\u001b[0m\u001b[0misna\u001b[0m\u001b[1;33m(\u001b[0m\u001b[0mdfn\u001b[0m\u001b[1;33m[\u001b[0m\u001b[0mcolnames\u001b[0m\u001b[1;33m[\u001b[0m\u001b[0mk\u001b[0m\u001b[1;33m]\u001b[0m\u001b[1;33m]\u001b[0m\u001b[1;33m[\u001b[0m\u001b[0mi\u001b[0m\u001b[1;33m]\u001b[0m\u001b[1;33m)\u001b[0m\u001b[1;33m)\u001b[0m\u001b[1;33m:\u001b[0m\u001b[1;33m\u001b[0m\u001b[1;33m\u001b[0m\u001b[0m\n\u001b[1;32m---> 43\u001b[1;33m         \u001b[0mdfn\u001b[0m\u001b[1;33m[\u001b[0m\u001b[0mcolnames\u001b[0m\u001b[1;33m[\u001b[0m\u001b[0mk\u001b[0m\u001b[1;33m]\u001b[0m\u001b[1;33m]\u001b[0m\u001b[1;33m[\u001b[0m\u001b[0mi\u001b[0m\u001b[1;33m]\u001b[0m\u001b[1;33m=\u001b[0m\u001b[0msc\u001b[0m\u001b[1;33m.\u001b[0m\u001b[0mmedian\u001b[0m\u001b[1;33m(\u001b[0m\u001b[0mdfn\u001b[0m\u001b[1;33m[\u001b[0m\u001b[0mcolnames\u001b[0m\u001b[1;33m[\u001b[0m\u001b[0mk\u001b[0m\u001b[1;33m]\u001b[0m\u001b[1;33m]\u001b[0m\u001b[1;33m)\u001b[0m\u001b[1;33m\u001b[0m\u001b[1;33m\u001b[0m\u001b[0m\n\u001b[0m",
      "\u001b[1;32m~\\AppData\\Local\\Packages\\PythonSoftwareFoundation.Python.3.11_qbz5n2kfra8p0\\LocalCache\\local-packages\\Python311\\site-packages\\pandas\\core\\frame.py\u001b[0m in \u001b[0;36m?\u001b[1;34m(self, key)\u001b[0m\n\u001b[1;32m-> 3853\u001b[1;33m     \u001b[1;32mdef\u001b[0m \u001b[0m__getitem__\u001b[0m\u001b[1;33m(\u001b[0m\u001b[0mself\u001b[0m\u001b[1;33m,\u001b[0m \u001b[0mkey\u001b[0m\u001b[1;33m)\u001b[0m\u001b[1;33m:\u001b[0m\u001b[1;33m\u001b[0m\u001b[1;33m\u001b[0m\u001b[0m\n\u001b[0m\u001b[0;32m   3854\u001b[0m         \u001b[0mcheck_dict_or_set_indexers\u001b[0m\u001b[1;33m(\u001b[0m\u001b[0mkey\u001b[0m\u001b[1;33m)\u001b[0m\u001b[1;33m\u001b[0m\u001b[1;33m\u001b[0m\u001b[0m\n\u001b[0;32m   3855\u001b[0m         \u001b[0mkey\u001b[0m \u001b[1;33m=\u001b[0m \u001b[0mlib\u001b[0m\u001b[1;33m.\u001b[0m\u001b[0mitem_from_zerodim\u001b[0m\u001b[1;33m(\u001b[0m\u001b[0mkey\u001b[0m\u001b[1;33m)\u001b[0m\u001b[1;33m\u001b[0m\u001b[1;33m\u001b[0m\u001b[0m\n\u001b[0;32m   3856\u001b[0m         \u001b[0mkey\u001b[0m \u001b[1;33m=\u001b[0m \u001b[0mcom\u001b[0m\u001b[1;33m.\u001b[0m\u001b[0mapply_if_callable\u001b[0m\u001b[1;33m(\u001b[0m\u001b[0mkey\u001b[0m\u001b[1;33m,\u001b[0m \u001b[0mself\u001b[0m\u001b[1;33m)\u001b[0m\u001b[1;33m\u001b[0m\u001b[1;33m\u001b[0m\u001b[0m\n",
      "\u001b[1;31mKeyboardInterrupt\u001b[0m: "
     ]
    }
   ],
   "source": [
    "for i in range (len(data[0])):\n",
    "    k=0\n",
    "    if(pd.isna(dfn[colnames[k]][i])):\n",
    "        dfn[colnames[k]][i]=sc.median(dfn[colnames[k]])\n",
    "    k+=1\n",
    "    if(pd.isna(dfn[colnames[k]][i])):\n",
    "        dfn[colnames[k]][i]=sc.median(dfn[colnames[k]])\n",
    "    k+=1\n",
    "    if(pd.isna(dfn[colnames[k]][i])):\n",
    "        dfn[colnames[k]][i]=sc.median(dfn[colnames[k]])\n",
    "    k+=1\n",
    "    if(pd.isna(dfn[colnames[k]][i])):\n",
    "        dfn[colnames[k]][i]=sc.median(dfn[colnames[k]])\n",
    "    k+=1\n",
    "    if(pd.isna(dfn[colnames[k]][i])):\n",
    "        dfn[colnames[k]][i]=sc.median(dfn[colnames[k]])\n",
    "    k+=1\n",
    "    if(pd.isna(dfn[colnames[k]][i])):\n",
    "        dfn[colnames[k]][i]=sc.median(dfn[colnames[k]])\n",
    "    k+=1\n",
    "    if(pd.isna(dfn[colnames[k]][i])):\n",
    "        dfn[colnames[k]][i]=sc.median(dfn[colnames[k]])\n",
    "    k+=1\n",
    "    if(pd.isna(dfn[colnames[k]][i])):\n",
    "        dfn[colnames[k]][i]=sc.median(dfn[colnames[k]])\n",
    "    k+=1\n",
    "    if(pd.isna(dfn[colnames[k]][i])):\n",
    "        dfn[colnames[k]][i]=sc.median(dfn[colnames[k]])\n",
    "    k+=1\n",
    "    if(pd.isna(dfn[colnames[k]][i])):\n",
    "        dfn[colnames[k]][i]=sc.median(dfn[colnames[k]])\n",
    "    k+=1\n",
    "    if(pd.isna(dfn[colnames[k]][i])):\n",
    "        dfn[colnames[k]][i]=sc.median(dfn[colnames[k]])\n",
    "    k+=1\n",
    "    if(pd.isna(dfn[colnames[k]][i])):\n",
    "        dfn[colnames[k]][i]=sc.median(dfn[colnames[k]])\n",
    "    k+=1\n",
    "    if(pd.isna(dfn[colnames[k]][i])):\n",
    "        dfn[colnames[k]][i]=sc.median(dfn[colnames[k]])\n",
    "    k+=1\n",
    "    if(pd.isna(dfn[colnames[k]][i])):\n",
    "        dfn[colnames[k]][i]=sc.median(dfn[colnames[k]])"
   ]
  },
  {
   "cell_type": "code",
   "execution_count": null,
   "metadata": {},
   "outputs": [],
   "source": [
    "def checker(arr):\n",
    "    cou=0\n",
    "    for i in arr:\n",
    "        if(pd.isna(i)):\n",
    "            cou+=1\n",
    "    return (f\"There are {cou} nan values\")\n",
    "for i in dfn:\n",
    "    checker(dfn[i])"
   ]
  }
 ],
 "metadata": {
  "kernelspec": {
   "display_name": "Python 3",
   "language": "python",
   "name": "python3"
  },
  "language_info": {
   "codemirror_mode": {
    "name": "ipython",
    "version": 3
   },
   "file_extension": ".py",
   "mimetype": "text/x-python",
   "name": "python",
   "nbconvert_exporter": "python",
   "pygments_lexer": "ipython3",
   "version": "3.11.7"
  }
 },
 "nbformat": 4,
 "nbformat_minor": 2
}
